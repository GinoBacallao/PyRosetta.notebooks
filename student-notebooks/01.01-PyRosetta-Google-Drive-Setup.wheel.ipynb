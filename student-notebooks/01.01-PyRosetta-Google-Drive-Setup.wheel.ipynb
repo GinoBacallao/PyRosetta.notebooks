{
 "cells": [
  {
   "cell_type": "markdown",
   "metadata": {},
   "source": [
    "Before you turn this problem in, make sure everything runs as expected. First, **restart the kernel** (in the menubar, select Kernel$\\rightarrow$Restart) and then **run all cells** (in the menubar, select Cell$\\rightarrow$Run All).\n",
    "\n",
    "Make sure you fill in any place that says `YOUR CODE HERE` or \"YOUR ANSWER HERE\", as well as your name and collaborators below:"
   ]
  },
  {
   "cell_type": "code",
   "execution_count": null,
   "metadata": {},
   "outputs": [],
   "source": [
    "NAME = \"\"\n",
    "COLLABORATORS = \"\""
   ]
  },
  {
   "cell_type": "markdown",
   "metadata": {},
   "source": [
    "---"
   ]
  },
  {
   "cell_type": "code",
   "execution_count": null,
   "metadata": {
    "id": "_eZ7te8jVOor"
   },
   "outputs": [],
   "source": [
    "# Mounting Google Drive and add it to Python sys path  \n",
    "\n",
    "google_drive_mount_point = '/content/google_drive'\n",
    "\n",
    "import os, sys, time\n",
    "\n",
    "if 'google.colab' in sys.modules:\n",
    "    from google.colab import drive\n",
    "    drive.mount(google_drive_mount_point)\n",
    "\n",
    "if not os.getenv(\"DEBUG\"):\n",
    "    google_drive = google_drive_mount_point + '/My Drive'      "
   ]
  },
  {
   "cell_type": "code",
   "execution_count": null,
   "metadata": {
    "id": "2QzBwpIDV8be"
   },
   "outputs": [],
   "source": [
    "%%time\n",
    "if not os.getenv(\"DEBUG\"):\n",
    "    # installing PyRosetta\n",
    "    if sys.version_info.major != 3 or sys.version_info.minor != 7:\n",
    "        print('Need Python-3.7 to run!')\n",
    "        sys.exit(1)\n",
    "\n",
    "    # upload PyRosetta Linux WHEEL package into your google drive and put it into /PyRosetta dir\n",
    "    # or alternatively you can download PyRosetta directly from GrayLab web site (but this might take some time!)\n",
    "    #!mkdir $notebook_path/PyRosetta\n",
    "    #!cd $notebook_path/PyRosetta && wget --user USERNAME --password PASSWORD https://graylab.jhu.edu/download/PyRosetta4/archive/release/PyRosetta4.Release.python37.ubuntu.wheel/latest.html   \n",
    "\n",
    "    pyrosetta_distr_path = google_drive + '/PyRosetta' \n",
    "    \n",
    "    # finding path to wheel package, if multiple packages is found take first one\n",
    "    # replace this with `wheel_path = pyrosetta_distr_path + /<wheel-file-name>.whl` if you want to use particular whl file\n",
    "    wheel_path = pyrosetta_distr_path + '/' + [ f for f in os.listdir(pyrosetta_distr_path) if f.endswith('.whl')][0]\n",
    "    \n",
    "    print(f'Using PyRosetta wheel package: {wheel_path}')\n",
    "\n",
    "    !pip3 install '{wheel_path}' "
   ]
  },
  {
   "cell_type": "code",
   "execution_count": null,
   "metadata": {
    "id": "VTAcelKGbS3y"
   },
   "outputs": [],
   "source": [
    "from pyrosetta import *\n",
    "pyrosetta.init()"
   ]
  }
 ],
 "metadata": {
  "colab": {
   "collapsed_sections": [],
   "name": "01.01-PyRosetta-Google-Drive-Setup.a.wheel.ipynb",
   "provenance": []
  },
  "kernelspec": {
   "display_name": "Python 3",
   "name": "python3"
  },
  "language_info": {
   "codemirror_mode": {
    "name": "ipython",
    "version": 3
   },
   "file_extension": ".py",
   "mimetype": "text/x-python",
   "name": "python",
   "nbconvert_exporter": "python",
   "pygments_lexer": "ipython3",
   "version": "3.7.0"
  }
 },
 "nbformat": 4,
 "nbformat_minor": 0
}
